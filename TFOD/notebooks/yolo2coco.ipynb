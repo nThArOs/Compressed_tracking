{
 "cells": [
  {
   "cell_type": "code",
   "execution_count": 1,
   "id": "11bfcd5f-82fe-483b-ad47-d71e32d3063b",
   "metadata": {
    "tags": []
   },
   "outputs": [],
   "source": [
    "import json\n",
    "import os\n",
    "\n",
    "def yolo2coco(yolo_dir, coco_file):\n",
    "    images = []\n",
    "    annotations = []\n",
    "    categories = []\n",
    "\n",
    "    label_files = os.listdir(yolo_dir)\n",
    "    label_files = [file for file in label_files if file.endswith(\".txt\")]\n",
    "\n",
    "    for i, label_file in enumerate(label_files):\n",
    "        with open(os.path.join(yolo_dir, label_file), \"r\") as f:\n",
    "            image_id = i\n",
    "            image_data = {\n",
    "                \"id\": image_id,\n",
    "                \"file_name\": label_file.replace(\".txt\", \".jpg\"),\n",
    "            }\n",
    "            images.append(image_data)\n",
    "\n",
    "            for line in f:\n",
    "                line = line.strip()\n",
    "                parts = line.split(\" \")\n",
    "                category_id = int(parts[0])\n",
    "                bbox = [float(x) for x in parts[1:]]\n",
    "                annotation_data = {\n",
    "                    \"id\": len(annotations),\n",
    "                    \"image_id\": image_id,\n",
    "                    \"category_id\": category_id,\n",
    "                    \"bbox\": bbox,\n",
    "                    \"iscrowd\": 0,\n",
    "                }\n",
    "                annotations.append(annotation_data)\n",
    "\n",
    "        if i == 0:\n",
    "            with open(os.path.join(yolo_dir, label_file), \"r\") as f:\n",
    "                for line in f:\n",
    "                    parts = line.strip().split(\" \")\n",
    "                    category_id = int(parts[0])\n",
    "                    if category_id not in [cat[\"id\"] for cat in categories]:\n",
    "                        categories.append({\"id\": category_id, \"name\": f\"class{category_id}\"})\n",
    "\n",
    "    coco_data = {\n",
    "        \"images\": images,\n",
    "        \"annotations\": annotations,\n",
    "        \"categories\": categories,\n",
    "    }\n",
    "\n",
    "    with open(coco_file, \"w\") as f:\n",
    "        json.dump(coco_data, f)\n",
    "\n",
    "yolo2coco(\"/home/jovyan/Desktop/dataset/coco_organized/train/labels\",\n",
    "          \"/home/jovyan/Desktop/dataset/coco_organized/annotations/instance_train.json\")\n"
   ]
  },
  {
   "cell_type": "code",
   "execution_count": null,
   "id": "d440e9fc-aa40-44e7-9f72-5449f23409af",
   "metadata": {
    "tags": []
   },
   "outputs": [],
   "source": []
  },
  {
   "cell_type": "code",
   "execution_count": null,
   "id": "e0d0a8cc-5c3f-48ce-808e-8daab1bee060",
   "metadata": {
    "collapsed": true,
    "jupyter": {
     "outputs_hidden": true
    },
    "tags": []
   },
   "outputs": [],
   "source": []
  },
  {
   "cell_type": "code",
   "execution_count": null,
   "id": "214a2c32-91fa-431c-a2a1-c01ba4d9488f",
   "metadata": {},
   "outputs": [],
   "source": []
  },
  {
   "cell_type": "code",
   "execution_count": null,
   "id": "33c55409-551e-47d4-a057-d0e5537a069f",
   "metadata": {},
   "outputs": [],
   "source": []
  },
  {
   "cell_type": "code",
   "execution_count": null,
   "id": "19f5c66a-98ba-4f03-a96d-802519819870",
   "metadata": {},
   "outputs": [],
   "source": []
  },
  {
   "cell_type": "code",
   "execution_count": null,
   "id": "9fe565d7-23b6-43a7-bef6-0917489f6353",
   "metadata": {},
   "outputs": [],
   "source": []
  },
  {
   "cell_type": "code",
   "execution_count": null,
   "id": "468ca32d-680f-456d-acf7-38e0c22df1c5",
   "metadata": {},
   "outputs": [],
   "source": []
  },
  {
   "cell_type": "code",
   "execution_count": null,
   "id": "b0841102-95dc-4b38-9a16-4f9222a3722c",
   "metadata": {},
   "outputs": [],
   "source": []
  },
  {
   "cell_type": "code",
   "execution_count": null,
   "id": "256ea53d-9920-4025-a8fe-4a35f8c81599",
   "metadata": {},
   "outputs": [],
   "source": []
  },
  {
   "cell_type": "code",
   "execution_count": null,
   "id": "ba05fdb6-818a-4ffc-bdb4-f79ceda72ba8",
   "metadata": {},
   "outputs": [],
   "source": []
  }
 ],
 "metadata": {
  "kernelspec": {
   "display_name": "Python 3 (ipykernel)",
   "language": "python",
   "name": "python3"
  },
  "language_info": {
   "codemirror_mode": {
    "name": "ipython",
    "version": 3
   },
   "file_extension": ".py",
   "mimetype": "text/x-python",
   "name": "python",
   "nbconvert_exporter": "python",
   "pygments_lexer": "ipython3",
   "version": "3.10.10"
  }
 },
 "nbformat": 4,
 "nbformat_minor": 5
}
